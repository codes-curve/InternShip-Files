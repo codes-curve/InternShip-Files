{
 "cells": [
  {
   "cell_type": "markdown",
   "id": "7733db0a",
   "metadata": {},
   "source": [
    "# Starting EDA on Titanic"
   ]
  },
  {
   "cell_type": "code",
   "execution_count": null,
   "id": "8bbc13be",
   "metadata": {},
   "outputs": [],
   "source": []
  }
 ],
 "metadata": {
  "kernelspec": {
   "display_name": "Python 3",
   "language": "python",
   "name": "python3"
  },
  "language_info": {
   "name": "python",
   "version": "3.12.10"
  }
 },
 "nbformat": 4,
 "nbformat_minor": 5
}
